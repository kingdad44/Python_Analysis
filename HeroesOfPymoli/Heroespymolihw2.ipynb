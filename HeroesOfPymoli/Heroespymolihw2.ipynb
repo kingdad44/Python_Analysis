{
 "cells": [
  {
   "cell_type": "code",
   "execution_count": 1,
   "metadata": {},
   "outputs": [],
   "source": [
    "import os\n",
    "import json\n",
    "import pandas as pd\n",
    "import numpy as np\n",
    "heroes_data_file=\"purchase_data.json\"\n",
    "heroes_df= pd.read_json(heroes_data_file)\n"
   ]
  },
  {
   "cell_type": "markdown",
   "metadata": {},
   "source": [
    "__Player Count__"
   ]
  },
  {
   "cell_type": "code",
   "execution_count": 2,
   "metadata": {},
   "outputs": [
    {
     "data": {
      "text/html": [
       "<div>\n",
       "<style scoped>\n",
       "    .dataframe tbody tr th:only-of-type {\n",
       "        vertical-align: middle;\n",
       "    }\n",
       "\n",
       "    .dataframe tbody tr th {\n",
       "        vertical-align: top;\n",
       "    }\n",
       "\n",
       "    .dataframe thead th {\n",
       "        text-align: right;\n",
       "    }\n",
       "</style>\n",
       "<table border=\"1\" class=\"dataframe\">\n",
       "  <thead>\n",
       "    <tr style=\"text-align: right;\">\n",
       "      <th></th>\n",
       "    </tr>\n",
       "    <tr>\n",
       "      <th>Total Players</th>\n",
       "    </tr>\n",
       "  </thead>\n",
       "  <tbody>\n",
       "    <tr>\n",
       "      <th>573</th>\n",
       "    </tr>\n",
       "  </tbody>\n",
       "</table>\n",
       "</div>"
      ],
      "text/plain": [
       "Empty DataFrame\n",
       "Columns: []\n",
       "Index: [573]"
      ]
     },
     "execution_count": 2,
     "metadata": {},
     "output_type": "execute_result"
    }
   ],
   "source": [
    "total_unique_players = heroes_df['SN'].nunique()\n",
    "#total_unique_players\n",
    "players_df = pd.DataFrame([{'Total Players': total_unique_players}])\n",
    "players_df.set_index('Total Players', inplace = True)\n",
    "players_df\n"
   ]
  },
  {
   "cell_type": "markdown",
   "metadata": {},
   "source": [
    "__Purchase Totals__"
   ]
  },
  {
   "cell_type": "code",
   "execution_count": 3,
   "metadata": {},
   "outputs": [
    {
     "data": {
      "text/html": [
       "<style  type=\"text/css\" >\n",
       "</style>  \n",
       "<table id=\"T_cc1b4b06_5aec_11e8_bc83_9061aec5113c\" > \n",
       "<thead>    <tr> \n",
       "        <th class=\"blank level0\" ></th> \n",
       "        <th class=\"col_heading level0 col0\" >Average Purchase Price</th> \n",
       "        <th class=\"col_heading level0 col1\" >Number of Unique Items</th> \n",
       "        <th class=\"col_heading level0 col2\" >Total Purchases</th> \n",
       "        <th class=\"col_heading level0 col3\" >Total Revenue</th> \n",
       "    </tr></thead> \n",
       "<tbody>    <tr> \n",
       "        <th id=\"T_cc1b4b06_5aec_11e8_bc83_9061aec5113clevel0_row0\" class=\"row_heading level0 row0\" >0</th> \n",
       "        <td id=\"T_cc1b4b06_5aec_11e8_bc83_9061aec5113crow0_col0\" class=\"data row0 col0\" >$2.93</td> \n",
       "        <td id=\"T_cc1b4b06_5aec_11e8_bc83_9061aec5113crow0_col1\" class=\"data row0 col1\" >179</td> \n",
       "        <td id=\"T_cc1b4b06_5aec_11e8_bc83_9061aec5113crow0_col2\" class=\"data row0 col2\" >780</td> \n",
       "        <td id=\"T_cc1b4b06_5aec_11e8_bc83_9061aec5113crow0_col3\" class=\"data row0 col3\" >$2,286.33</td> \n",
       "    </tr></tbody> \n",
       "</table> "
      ],
      "text/plain": [
       "<pandas.io.formats.style.Styler at 0x2776ad4b828>"
      ]
     },
     "execution_count": 3,
     "metadata": {},
     "output_type": "execute_result"
    }
   ],
   "source": [
    "# Number of Unique Items\n",
    "\n",
    "total_unique_items = heroes_df['Item Name'].nunique()\n",
    "\n",
    "# total puchases\n",
    "\n",
    "total_purchases = heroes_df['Price'].count()\n",
    "\n",
    "#total Revenue\n",
    "\n",
    "total_revenue = round(heroes_df['Price'].sum(),2)\n",
    "\n",
    "#avg price\n",
    "\n",
    "avg_price = round(total_revenue /total_purchases, 2)\n",
    "\n",
    "#create dataframe for values\n",
    "\n",
    "pur_analysis = pd.DataFrame([{\n",
    "    \n",
    "    \"Number of Unique Items\": total_unique_items,\n",
    "    'Average Purchase Price': avg_price,\n",
    "    'Total Purchases': total_purchases,\n",
    "    'Total Revenue': total_revenue\n",
    "}])\n",
    "\n",
    "pur_analysis.style.format({'Average Purchase Price': '${:.2f}', 'Total Revenue': '${:,.2f}'})"
   ]
  },
  {
   "cell_type": "markdown",
   "metadata": {},
   "source": [
    "__Player Analysis by Gender__<br>\n",
    "Top level purchase analysis. No suprises that > 80 % of players in this genre are male"
   ]
  },
  {
   "cell_type": "code",
   "execution_count": 4,
   "metadata": {},
   "outputs": [
    {
     "data": {
      "text/html": [
       "<style  type=\"text/css\" >\n",
       "</style>  \n",
       "<table id=\"T_ce5533c8_5aec_11e8_86c1_9061aec5113c\" > \n",
       "<thead>    <tr> \n",
       "        <th class=\"blank level0\" ></th> \n",
       "        <th class=\"col_heading level0 col0\" ># of Players</th> \n",
       "        <th class=\"col_heading level0 col1\" >% of Players</th> \n",
       "    </tr>    <tr> \n",
       "        <th class=\"index_name level0\" >Gender</th> \n",
       "        <th class=\"blank\" ></th> \n",
       "        <th class=\"blank\" ></th> \n",
       "    </tr></thead> \n",
       "<tbody>    <tr> \n",
       "        <th id=\"T_ce5533c8_5aec_11e8_86c1_9061aec5113clevel0_row0\" class=\"row_heading level0 row0\" >Female</th> \n",
       "        <td id=\"T_ce5533c8_5aec_11e8_86c1_9061aec5113crow0_col0\" class=\"data row0 col0\" >100</td> \n",
       "        <td id=\"T_ce5533c8_5aec_11e8_86c1_9061aec5113crow0_col1\" class=\"data row0 col1\" >17.5%</td> \n",
       "    </tr>    <tr> \n",
       "        <th id=\"T_ce5533c8_5aec_11e8_86c1_9061aec5113clevel0_row1\" class=\"row_heading level0 row1\" >Male</th> \n",
       "        <td id=\"T_ce5533c8_5aec_11e8_86c1_9061aec5113crow1_col0\" class=\"data row1 col0\" >465</td> \n",
       "        <td id=\"T_ce5533c8_5aec_11e8_86c1_9061aec5113crow1_col1\" class=\"data row1 col1\" >81.2%</td> \n",
       "    </tr>    <tr> \n",
       "        <th id=\"T_ce5533c8_5aec_11e8_86c1_9061aec5113clevel0_row2\" class=\"row_heading level0 row2\" >Other / Non-Disclosed</th> \n",
       "        <td id=\"T_ce5533c8_5aec_11e8_86c1_9061aec5113crow2_col0\" class=\"data row2 col0\" >8</td> \n",
       "        <td id=\"T_ce5533c8_5aec_11e8_86c1_9061aec5113crow2_col1\" class=\"data row2 col1\" >1.4%</td> \n",
       "    </tr></tbody> \n",
       "</table> "
      ],
      "text/plain": [
       "<pandas.io.formats.style.Styler at 0x2776ad4b588>"
      ]
     },
     "execution_count": 4,
     "metadata": {},
     "output_type": "execute_result"
    }
   ],
   "source": [
    "# Gender Data\n",
    "# unique sn values by gender\n",
    "uniq_players_gen_df=pd.DataFrame(heroes_df.groupby('Gender')['SN'].nunique())\n",
    "uniq_players_gen_df.rename(columns = {'index': 'Gender', 'SN': '# of Players'}, inplace = True)\n",
    "\n",
    "uniq_players_gen_df['% of Players'] = uniq_players_gen_df['# of Players']/total_unique_players * 100\n",
    "\n",
    "uniq_players_gen_df\n",
    "uniq_players_gen_df.style.format({\"% of Players\": \"{:.1f}%\"})"
   ]
  },
  {
   "cell_type": "markdown",
   "metadata": {},
   "source": [
    "__Purchase Analysis by Gender__<br>\n",
    "Purchases per player are almost identical between amongst all genders"
   ]
  },
  {
   "cell_type": "code",
   "execution_count": 5,
   "metadata": {},
   "outputs": [
    {
     "ename": "NameError",
     "evalue": "name 'gender_analysis_fnl' is not defined",
     "output_type": "error",
     "traceback": [
      "\u001b[1;31m---------------------------------------------------------------------------\u001b[0m",
      "\u001b[1;31mNameError\u001b[0m                                 Traceback (most recent call last)",
      "\u001b[1;32m<ipython-input-5-892ab40e1ad4>\u001b[0m in \u001b[0;36m<module>\u001b[1;34m()\u001b[0m\n\u001b[0;32m     10\u001b[0m \u001b[1;31m# create sub frame to merge to\u001b[0m\u001b[1;33m\u001b[0m\u001b[1;33m\u001b[0m\u001b[0m\n\u001b[0;32m     11\u001b[0m \u001b[0mgender_analysis\u001b[0m \u001b[1;33m=\u001b[0m \u001b[0mpd\u001b[0m\u001b[1;33m.\u001b[0m\u001b[0mmerge\u001b[0m\u001b[1;33m(\u001b[0m\u001b[0muniq_players_gen_df\u001b[0m\u001b[1;33m[\u001b[0m\u001b[1;33m[\u001b[0m\u001b[1;34m\"# of Players\"\u001b[0m\u001b[1;33m]\u001b[0m\u001b[1;33m]\u001b[0m\u001b[1;33m,\u001b[0m\u001b[0mcount_by_gen\u001b[0m\u001b[1;33m,\u001b[0m \u001b[0mleft_index\u001b[0m \u001b[1;33m=\u001b[0m \u001b[1;32mTrue\u001b[0m\u001b[1;33m,\u001b[0m \u001b[0mright_index\u001b[0m \u001b[1;33m=\u001b[0m \u001b[1;32mTrue\u001b[0m\u001b[1;33m)\u001b[0m\u001b[1;33m\u001b[0m\u001b[0m\n\u001b[1;32m---> 12\u001b[1;33m \u001b[0mgender_analysis\u001b[0m\u001b[1;33m[\u001b[0m\u001b[1;34m'Purchases per Player'\u001b[0m\u001b[1;33m]\u001b[0m \u001b[1;33m=\u001b[0m \u001b[0mgender_analysis_fnl\u001b[0m\u001b[1;33m[\u001b[0m\u001b[1;34m'# of Purchases'\u001b[0m\u001b[1;33m]\u001b[0m\u001b[1;33m/\u001b[0m\u001b[0mgender_analysis_fnl\u001b[0m\u001b[1;33m[\u001b[0m\u001b[1;34m'# of Players'\u001b[0m\u001b[1;33m]\u001b[0m\u001b[1;33m\u001b[0m\u001b[0m\n\u001b[0m\u001b[0;32m     13\u001b[0m \u001b[1;33m\u001b[0m\u001b[0m\n\u001b[0;32m     14\u001b[0m \u001b[1;31m#merge total sales\u001b[0m\u001b[1;33m\u001b[0m\u001b[1;33m\u001b[0m\u001b[0m\n",
      "\u001b[1;31mNameError\u001b[0m: name 'gender_analysis_fnl' is not defined"
     ]
    }
   ],
   "source": [
    "#gender analysis\n",
    "#using unique player counts from above\n",
    "#counts of transactions\n",
    "count_by_gen = pd.DataFrame(heroes_df.groupby('Gender')['Gender'].count())\n",
    "count_by_gen.rename(columns = {'Gender': '# of Purchases'}, inplace=True)\n",
    "\n",
    "#total sales\n",
    "total_by_gen = pd.DataFrame(heroes_df.groupby('Gender')['Price'].sum())\n",
    "total_by_gen.rename(columns = {'Price': 'Total Purchase Value'}, inplace=True)\n",
    "# create sub frame to merge to\n",
    "gender_analysis = pd.merge(uniq_players_gen_df[[\"# of Players\"]],count_by_gen, left_index = True, right_index = True)\n",
    "gender_analysis['Purchases per Player'] = gender_analysis_fnl['# of Purchases']/gender_analysis_fnl['# of Players']\n",
    "\n",
    "#merge total sales\n",
    "gender_analysis_fnl = pd.merge(gender_analysis,total_by_gen, left_index = True, right_index = True)\n",
    "# add average price\n",
    "gender_analysis_fnl['Average Purchase Price'] = gender_analysis_fnl['Total Purchase Value']/gender_analysis_fnl['# of Purchases']\n",
    "#add normalized totals prices\n",
    "gender_analysis_fnl['Normalized Totals'] = gender_analysis_fnl['Total Purchase Value']/gender_analysis_fnl['# of Players']\n",
    "\n",
    "\n",
    "gender_analysis_fnl\n",
    "#format\n",
    "gender_analysis_fnl.style.format({'Total Purchase Value': '${:.2f}', 'Average Purchase Price': '${:.2f}', 'Normalized Totals': '${:.2f}'})\n",
    "\n",
    "\n",
    "\n"
   ]
  },
  {
   "cell_type": "markdown",
   "metadata": {},
   "source": [
    "__Purchase Analysis by Age__<br>\n",
    "10-14 and 35-39 are the age groups most likely to make repeat purchases\n"
   ]
  },
  {
   "cell_type": "code",
   "execution_count": 14,
   "metadata": {},
   "outputs": [
    {
     "data": {
      "text/html": [
       "<style  type=\"text/css\" >\n",
       "</style>  \n",
       "<table id=\"T_bbc9b05e_5aec_11e8_ae21_9061aec5113c\" > \n",
       "<thead>    <tr> \n",
       "        <th class=\"blank level0\" ></th> \n",
       "        <th class=\"col_heading level0 col0\" ># of Purchases</th> \n",
       "        <th class=\"col_heading level0 col1\" ># of Players</th> \n",
       "        <th class=\"col_heading level0 col2\" >Average Purchase Price</th> \n",
       "        <th class=\"col_heading level0 col3\" >Total Purchase Value</th> \n",
       "        <th class=\"col_heading level0 col4\" >Normalized Totals</th> \n",
       "        <th class=\"col_heading level0 col5\" >Purchases per Player</th> \n",
       "    </tr>    <tr> \n",
       "        <th class=\"index_name level0\" >age_bin</th> \n",
       "        <th class=\"blank\" ></th> \n",
       "        <th class=\"blank\" ></th> \n",
       "        <th class=\"blank\" ></th> \n",
       "        <th class=\"blank\" ></th> \n",
       "        <th class=\"blank\" ></th> \n",
       "        <th class=\"blank\" ></th> \n",
       "    </tr></thead> \n",
       "<tbody>    <tr> \n",
       "        <th id=\"T_bbc9b05e_5aec_11e8_ae21_9061aec5113clevel0_row0\" class=\"row_heading level0 row0\" >10 - 14</th> \n",
       "        <td id=\"T_bbc9b05e_5aec_11e8_ae21_9061aec5113crow0_col0\" class=\"data row0 col0\" >35</td> \n",
       "        <td id=\"T_bbc9b05e_5aec_11e8_ae21_9061aec5113crow0_col1\" class=\"data row0 col1\" >23</td> \n",
       "        <td id=\"T_bbc9b05e_5aec_11e8_ae21_9061aec5113crow0_col2\" class=\"data row0 col2\" >$2.77</td> \n",
       "        <td id=\"T_bbc9b05e_5aec_11e8_ae21_9061aec5113crow0_col3\" class=\"data row0 col3\" >$96.95</td> \n",
       "        <td id=\"T_bbc9b05e_5aec_11e8_ae21_9061aec5113crow0_col4\" class=\"data row0 col4\" >$4.22</td> \n",
       "        <td id=\"T_bbc9b05e_5aec_11e8_ae21_9061aec5113crow0_col5\" class=\"data row0 col5\" >1.52174</td> \n",
       "    </tr>    <tr> \n",
       "        <th id=\"T_bbc9b05e_5aec_11e8_ae21_9061aec5113clevel0_row1\" class=\"row_heading level0 row1\" >15 - 19</th> \n",
       "        <td id=\"T_bbc9b05e_5aec_11e8_ae21_9061aec5113crow1_col0\" class=\"data row1 col0\" >133</td> \n",
       "        <td id=\"T_bbc9b05e_5aec_11e8_ae21_9061aec5113crow1_col1\" class=\"data row1 col1\" >100</td> \n",
       "        <td id=\"T_bbc9b05e_5aec_11e8_ae21_9061aec5113crow1_col2\" class=\"data row1 col2\" >$2.91</td> \n",
       "        <td id=\"T_bbc9b05e_5aec_11e8_ae21_9061aec5113crow1_col3\" class=\"data row1 col3\" >$386.42</td> \n",
       "        <td id=\"T_bbc9b05e_5aec_11e8_ae21_9061aec5113crow1_col4\" class=\"data row1 col4\" >$3.86</td> \n",
       "        <td id=\"T_bbc9b05e_5aec_11e8_ae21_9061aec5113crow1_col5\" class=\"data row1 col5\" >1.33</td> \n",
       "    </tr>    <tr> \n",
       "        <th id=\"T_bbc9b05e_5aec_11e8_ae21_9061aec5113clevel0_row2\" class=\"row_heading level0 row2\" >20 - 24</th> \n",
       "        <td id=\"T_bbc9b05e_5aec_11e8_ae21_9061aec5113crow2_col0\" class=\"data row2 col0\" >336</td> \n",
       "        <td id=\"T_bbc9b05e_5aec_11e8_ae21_9061aec5113crow2_col1\" class=\"data row2 col1\" >259</td> \n",
       "        <td id=\"T_bbc9b05e_5aec_11e8_ae21_9061aec5113crow2_col2\" class=\"data row2 col2\" >$2.91</td> \n",
       "        <td id=\"T_bbc9b05e_5aec_11e8_ae21_9061aec5113crow2_col3\" class=\"data row2 col3\" >$978.77</td> \n",
       "        <td id=\"T_bbc9b05e_5aec_11e8_ae21_9061aec5113crow2_col4\" class=\"data row2 col4\" >$3.78</td> \n",
       "        <td id=\"T_bbc9b05e_5aec_11e8_ae21_9061aec5113crow2_col5\" class=\"data row2 col5\" >1.2973</td> \n",
       "    </tr>    <tr> \n",
       "        <th id=\"T_bbc9b05e_5aec_11e8_ae21_9061aec5113clevel0_row3\" class=\"row_heading level0 row3\" >25 - 29</th> \n",
       "        <td id=\"T_bbc9b05e_5aec_11e8_ae21_9061aec5113crow3_col0\" class=\"data row3 col0\" >125</td> \n",
       "        <td id=\"T_bbc9b05e_5aec_11e8_ae21_9061aec5113crow3_col1\" class=\"data row3 col1\" >87</td> \n",
       "        <td id=\"T_bbc9b05e_5aec_11e8_ae21_9061aec5113crow3_col2\" class=\"data row3 col2\" >$2.96</td> \n",
       "        <td id=\"T_bbc9b05e_5aec_11e8_ae21_9061aec5113crow3_col3\" class=\"data row3 col3\" >$370.33</td> \n",
       "        <td id=\"T_bbc9b05e_5aec_11e8_ae21_9061aec5113crow3_col4\" class=\"data row3 col4\" >$4.26</td> \n",
       "        <td id=\"T_bbc9b05e_5aec_11e8_ae21_9061aec5113crow3_col5\" class=\"data row3 col5\" >1.43678</td> \n",
       "    </tr>    <tr> \n",
       "        <th id=\"T_bbc9b05e_5aec_11e8_ae21_9061aec5113clevel0_row4\" class=\"row_heading level0 row4\" >30 - 34</th> \n",
       "        <td id=\"T_bbc9b05e_5aec_11e8_ae21_9061aec5113crow4_col0\" class=\"data row4 col0\" >64</td> \n",
       "        <td id=\"T_bbc9b05e_5aec_11e8_ae21_9061aec5113crow4_col1\" class=\"data row4 col1\" >47</td> \n",
       "        <td id=\"T_bbc9b05e_5aec_11e8_ae21_9061aec5113crow4_col2\" class=\"data row4 col2\" >$3.08</td> \n",
       "        <td id=\"T_bbc9b05e_5aec_11e8_ae21_9061aec5113crow4_col3\" class=\"data row4 col3\" >$197.25</td> \n",
       "        <td id=\"T_bbc9b05e_5aec_11e8_ae21_9061aec5113crow4_col4\" class=\"data row4 col4\" >$4.20</td> \n",
       "        <td id=\"T_bbc9b05e_5aec_11e8_ae21_9061aec5113crow4_col5\" class=\"data row4 col5\" >1.3617</td> \n",
       "    </tr>    <tr> \n",
       "        <th id=\"T_bbc9b05e_5aec_11e8_ae21_9061aec5113clevel0_row5\" class=\"row_heading level0 row5\" >35 - 39</th> \n",
       "        <td id=\"T_bbc9b05e_5aec_11e8_ae21_9061aec5113crow5_col0\" class=\"data row5 col0\" >42</td> \n",
       "        <td id=\"T_bbc9b05e_5aec_11e8_ae21_9061aec5113crow5_col1\" class=\"data row5 col1\" >27</td> \n",
       "        <td id=\"T_bbc9b05e_5aec_11e8_ae21_9061aec5113crow5_col2\" class=\"data row5 col2\" >$2.84</td> \n",
       "        <td id=\"T_bbc9b05e_5aec_11e8_ae21_9061aec5113crow5_col3\" class=\"data row5 col3\" >$119.40</td> \n",
       "        <td id=\"T_bbc9b05e_5aec_11e8_ae21_9061aec5113crow5_col4\" class=\"data row5 col4\" >$4.42</td> \n",
       "        <td id=\"T_bbc9b05e_5aec_11e8_ae21_9061aec5113crow5_col5\" class=\"data row5 col5\" >1.55556</td> \n",
       "    </tr>    <tr> \n",
       "        <th id=\"T_bbc9b05e_5aec_11e8_ae21_9061aec5113clevel0_row6\" class=\"row_heading level0 row6\" >< 10</th> \n",
       "        <td id=\"T_bbc9b05e_5aec_11e8_ae21_9061aec5113crow6_col0\" class=\"data row6 col0\" >28</td> \n",
       "        <td id=\"T_bbc9b05e_5aec_11e8_ae21_9061aec5113crow6_col1\" class=\"data row6 col1\" >19</td> \n",
       "        <td id=\"T_bbc9b05e_5aec_11e8_ae21_9061aec5113crow6_col2\" class=\"data row6 col2\" >$2.98</td> \n",
       "        <td id=\"T_bbc9b05e_5aec_11e8_ae21_9061aec5113crow6_col3\" class=\"data row6 col3\" >$83.46</td> \n",
       "        <td id=\"T_bbc9b05e_5aec_11e8_ae21_9061aec5113crow6_col4\" class=\"data row6 col4\" >$4.39</td> \n",
       "        <td id=\"T_bbc9b05e_5aec_11e8_ae21_9061aec5113crow6_col5\" class=\"data row6 col5\" >1.47368</td> \n",
       "    </tr>    <tr> \n",
       "        <th id=\"T_bbc9b05e_5aec_11e8_ae21_9061aec5113clevel0_row7\" class=\"row_heading level0 row7\" >> 40</th> \n",
       "        <td id=\"T_bbc9b05e_5aec_11e8_ae21_9061aec5113crow7_col0\" class=\"data row7 col0\" >17</td> \n",
       "        <td id=\"T_bbc9b05e_5aec_11e8_ae21_9061aec5113crow7_col1\" class=\"data row7 col1\" >11</td> \n",
       "        <td id=\"T_bbc9b05e_5aec_11e8_ae21_9061aec5113crow7_col2\" class=\"data row7 col2\" >$3.16</td> \n",
       "        <td id=\"T_bbc9b05e_5aec_11e8_ae21_9061aec5113crow7_col3\" class=\"data row7 col3\" >$53.75</td> \n",
       "        <td id=\"T_bbc9b05e_5aec_11e8_ae21_9061aec5113crow7_col4\" class=\"data row7 col4\" >$4.89</td> \n",
       "        <td id=\"T_bbc9b05e_5aec_11e8_ae21_9061aec5113crow7_col5\" class=\"data row7 col5\" >1.54545</td> \n",
       "    </tr></tbody> \n",
       "</table> "
      ],
      "text/plain": [
       "<pandas.io.formats.style.Styler at 0x16aad4af278>"
      ]
     },
     "execution_count": 14,
     "metadata": {},
     "output_type": "execute_result"
    }
   ],
   "source": [
    "#sales by age\n",
    "\n",
    "#binning age data \n",
    "heroes_df.loc[(heroes_df['Age'] < 10), 'age_bin'] = \"< 10\"\n",
    "heroes_df.loc[(heroes_df['Age'] >= 10) & (heroes_df['Age'] <= 14), 'age_bin'] = \"10 - 14\"\n",
    "heroes_df.loc[(heroes_df['Age'] >= 15) & (heroes_df['Age'] <= 19), 'age_bin'] = \"15 - 19\"\n",
    "heroes_df.loc[(heroes_df['Age'] >= 20) & (heroes_df['Age'] <= 24), 'age_bin'] = \"20 - 24\"\n",
    "heroes_df.loc[(heroes_df['Age'] >= 25) & (heroes_df['Age'] <= 29), 'age_bin'] = \"25 - 29\"\n",
    "heroes_df.loc[(heroes_df['Age'] >= 30) & (heroes_df['Age'] <= 34), 'age_bin'] = \"30 - 34\"\n",
    "heroes_df.loc[(heroes_df['Age'] >= 35) & (heroes_df['Age'] <= 39), 'age_bin'] = \"35 - 39\"\n",
    "heroes_df.loc[(heroes_df['Age'] >= 40), 'age_bin'] = \"> 40\"\n",
    "\n",
    "# count users in bin\n",
    "count_age = pd.DataFrame(heroes_df.groupby('age_bin')['SN'].count())\n",
    "count_age.rename(columns = {'SN': '# of Purchases'}, inplace=True)\n",
    "\n",
    "# average purchase \n",
    "avg_price_age = pd.DataFrame(heroes_df.groupby('age_bin')['Price'].mean())\n",
    "avg_price_age.rename(columns = {'Price': 'Average Purchase Price'}, inplace=True)\n",
    "\n",
    "#total puchases\n",
    "tot_pur_age = pd.DataFrame(heroes_df.groupby('age_bin')['Price'].sum())\n",
    "tot_pur_age.rename(columns = {'Price': 'Total Purchase Value'}, inplace=True)\n",
    "\n",
    "\n",
    "# unique players count  and merge\n",
    "\n",
    "unique_age_users = pd.DataFrame(heroes_df.groupby('age_bin')['SN'].nunique())\n",
    "unique_age_users.rename(columns = {'SN': '# of Players'}, inplace=True)\n",
    "\n",
    "\n",
    "#build master data frame - one merge at the time so I can keep up with what I'm doing\n",
    "master_age_df_1 = pd.merge(count_age, unique_age_users, left_index = True, right_index = True)\n",
    "\n",
    "master_age_df_2= pd.merge(master_age_df_1,avg_price_age, left_index = True, right_index = True)\n",
    "master_age_df_final= pd.merge(master_age_df_2,tot_pur_age, left_index = True, right_index = True)\n",
    "\n",
    "\n",
    "master_age_df_final['Normalized Totals'] = master_age_df_final['Total Purchase Value']/master_age_df_final['# of Players']\n",
    "master_age_df_final['Purchases per Player'] = master_age_df_final['# of Purchases']/master_age_df_final['# of Players']\n",
    "#format final\n",
    "master_age_df_final\n",
    "master_age_df_final.style.format({'Average Purchase Price': '${:.2f}', 'Total Purchase Value': '${:.2f}', 'Normalized Totals': '${:.2f}'})\n"
   ]
  },
  {
   "cell_type": "markdown",
   "metadata": {},
   "source": [
    "__Top Spenders__"
   ]
  },
  {
   "cell_type": "code",
   "execution_count": 8,
   "metadata": {},
   "outputs": [
    {
     "data": {
      "text/html": [
       "<style  type=\"text/css\" >\n",
       "</style>  \n",
       "<table id=\"T_cadbbfdc_595a_11e8_8921_9061aec5113c\" > \n",
       "<thead>    <tr> \n",
       "        <th class=\"blank level0\" ></th> \n",
       "        <th class=\"col_heading level0 col0\" >Total Purchase Value</th> \n",
       "        <th class=\"col_heading level0 col1\" >Total Purchases</th> \n",
       "        <th class=\"col_heading level0 col2\" >Average Purchase Price</th> \n",
       "    </tr>    <tr> \n",
       "        <th class=\"index_name level0\" >SN</th> \n",
       "        <th class=\"blank\" ></th> \n",
       "        <th class=\"blank\" ></th> \n",
       "        <th class=\"blank\" ></th> \n",
       "    </tr></thead> \n",
       "<tbody>    <tr> \n",
       "        <th id=\"T_cadbbfdc_595a_11e8_8921_9061aec5113clevel0_row0\" class=\"row_heading level0 row0\" >Undirrala66</th> \n",
       "        <td id=\"T_cadbbfdc_595a_11e8_8921_9061aec5113crow0_col0\" class=\"data row0 col0\" >$17.06</td> \n",
       "        <td id=\"T_cadbbfdc_595a_11e8_8921_9061aec5113crow0_col1\" class=\"data row0 col1\" >5</td> \n",
       "        <td id=\"T_cadbbfdc_595a_11e8_8921_9061aec5113crow0_col2\" class=\"data row0 col2\" >$3.41</td> \n",
       "    </tr>    <tr> \n",
       "        <th id=\"T_cadbbfdc_595a_11e8_8921_9061aec5113clevel0_row1\" class=\"row_heading level0 row1\" >Saedue76</th> \n",
       "        <td id=\"T_cadbbfdc_595a_11e8_8921_9061aec5113crow1_col0\" class=\"data row1 col0\" >$13.56</td> \n",
       "        <td id=\"T_cadbbfdc_595a_11e8_8921_9061aec5113crow1_col1\" class=\"data row1 col1\" >4</td> \n",
       "        <td id=\"T_cadbbfdc_595a_11e8_8921_9061aec5113crow1_col2\" class=\"data row1 col2\" >$3.39</td> \n",
       "    </tr>    <tr> \n",
       "        <th id=\"T_cadbbfdc_595a_11e8_8921_9061aec5113clevel0_row2\" class=\"row_heading level0 row2\" >Mindimnya67</th> \n",
       "        <td id=\"T_cadbbfdc_595a_11e8_8921_9061aec5113crow2_col0\" class=\"data row2 col0\" >$12.74</td> \n",
       "        <td id=\"T_cadbbfdc_595a_11e8_8921_9061aec5113crow2_col1\" class=\"data row2 col1\" >4</td> \n",
       "        <td id=\"T_cadbbfdc_595a_11e8_8921_9061aec5113crow2_col2\" class=\"data row2 col2\" >$3.18</td> \n",
       "    </tr>    <tr> \n",
       "        <th id=\"T_cadbbfdc_595a_11e8_8921_9061aec5113clevel0_row3\" class=\"row_heading level0 row3\" >Haellysu29</th> \n",
       "        <td id=\"T_cadbbfdc_595a_11e8_8921_9061aec5113crow3_col0\" class=\"data row3 col0\" >$12.73</td> \n",
       "        <td id=\"T_cadbbfdc_595a_11e8_8921_9061aec5113crow3_col1\" class=\"data row3 col1\" >3</td> \n",
       "        <td id=\"T_cadbbfdc_595a_11e8_8921_9061aec5113crow3_col2\" class=\"data row3 col2\" >$4.24</td> \n",
       "    </tr>    <tr> \n",
       "        <th id=\"T_cadbbfdc_595a_11e8_8921_9061aec5113clevel0_row4\" class=\"row_heading level0 row4\" >Eoda93</th> \n",
       "        <td id=\"T_cadbbfdc_595a_11e8_8921_9061aec5113crow4_col0\" class=\"data row4 col0\" >$11.58</td> \n",
       "        <td id=\"T_cadbbfdc_595a_11e8_8921_9061aec5113crow4_col1\" class=\"data row4 col1\" >3</td> \n",
       "        <td id=\"T_cadbbfdc_595a_11e8_8921_9061aec5113crow4_col2\" class=\"data row4 col2\" >$3.86</td> \n",
       "    </tr></tbody> \n",
       "</table> "
      ],
      "text/plain": [
       "<pandas.io.formats.style.Styler at 0x16aae05b1d0>"
      ]
     },
     "execution_count": 8,
     "metadata": {},
     "output_type": "execute_result"
    }
   ],
   "source": [
    "# Top Spenders\n",
    "#calculate variable dfs\n",
    "total_amount_by_player = pd.DataFrame(heroes_df.groupby('SN')['Price'].sum())\n",
    "total_amount_by_player.rename(columns = {'Price': 'Total Purchase Value'}, inplace=True)\n",
    "\n",
    "\n",
    "purchases_by_player = pd.DataFrame(heroes_df.groupby('SN')['Price'].count())\n",
    "purchases_by_player.rename(columns = {'Price': 'Total Purchases'}, inplace=True)\n",
    "\n",
    "avg_purchase_by_player = pd.DataFrame(heroes_df.groupby('SN')['Price'].mean())\n",
    "avg_purchase_by_player.rename(columns = {'Price': 'Average Purchase Price'}, inplace=True)\n",
    "\n",
    "#append variable dfs with renamed columns\n",
    "top_spend_df_1 = pd.merge(total_amount_by_player, purchases_by_player, left_index = True, right_index = True)\n",
    "top_spend_df_final = pd.merge(top_spend_df_1,avg_purchase_by_player, left_index=True, right_index=True)\n",
    "\n",
    "#sort on total spend\n",
    "top_spend_df_final.sort_values('Total Purchase Value', ascending = False, inplace=True)\n",
    "#top 5 values\n",
    "top_spend_df_final = top_spend_df_final.head(5)\n",
    "\n",
    "top_spend_df_final.style.format({'Total Purchase Value': '${:.2f}', 'Average Purchase Price': '${:.2f}'})"
   ]
  },
  {
   "cell_type": "markdown",
   "metadata": {},
   "source": [
    "__Top Selling Items__"
   ]
  },
  {
   "cell_type": "code",
   "execution_count": 7,
   "metadata": {},
   "outputs": [
    {
     "data": {
      "text/html": [
       "<style  type=\"text/css\" >\n",
       "</style>  \n",
       "<table id=\"T_c844f22e_595a_11e8_b98c_9061aec5113c\" > \n",
       "<thead>    <tr> \n",
       "        <th class=\"blank level0\" ></th> \n",
       "        <th class=\"col_heading level0 col0\" >Total Revenue</th> \n",
       "        <th class=\"col_heading level0 col1\" >Total Purchases</th> \n",
       "        <th class=\"col_heading level0 col2\" >Purchase Price</th> \n",
       "    </tr>    <tr> \n",
       "        <th class=\"index_name level0\" >Item Name</th> \n",
       "        <th class=\"blank\" ></th> \n",
       "        <th class=\"blank\" ></th> \n",
       "        <th class=\"blank\" ></th> \n",
       "    </tr></thead> \n",
       "<tbody>    <tr> \n",
       "        <th id=\"T_c844f22e_595a_11e8_b98c_9061aec5113clevel0_row0\" class=\"row_heading level0 row0\" >Final Critic</th> \n",
       "        <td id=\"T_c844f22e_595a_11e8_b98c_9061aec5113crow0_col0\" class=\"data row0 col0\" >$38.60</td> \n",
       "        <td id=\"T_c844f22e_595a_11e8_b98c_9061aec5113crow0_col1\" class=\"data row0 col1\" >14</td> \n",
       "        <td id=\"T_c844f22e_595a_11e8_b98c_9061aec5113crow0_col2\" class=\"data row0 col2\" >$2.76</td> \n",
       "    </tr>    <tr> \n",
       "        <th id=\"T_c844f22e_595a_11e8_b98c_9061aec5113clevel0_row1\" class=\"row_heading level0 row1\" >Arcane Gem</th> \n",
       "        <td id=\"T_c844f22e_595a_11e8_b98c_9061aec5113crow1_col0\" class=\"data row1 col0\" >$24.53</td> \n",
       "        <td id=\"T_c844f22e_595a_11e8_b98c_9061aec5113crow1_col1\" class=\"data row1 col1\" >11</td> \n",
       "        <td id=\"T_c844f22e_595a_11e8_b98c_9061aec5113crow1_col2\" class=\"data row1 col2\" >$2.23</td> \n",
       "    </tr>    <tr> \n",
       "        <th id=\"T_c844f22e_595a_11e8_b98c_9061aec5113clevel0_row2\" class=\"row_heading level0 row2\" >Betrayal, Whisper of Grieving Widows</th> \n",
       "        <td id=\"T_c844f22e_595a_11e8_b98c_9061aec5113crow2_col0\" class=\"data row2 col0\" >$25.85</td> \n",
       "        <td id=\"T_c844f22e_595a_11e8_b98c_9061aec5113crow2_col1\" class=\"data row2 col1\" >11</td> \n",
       "        <td id=\"T_c844f22e_595a_11e8_b98c_9061aec5113crow2_col2\" class=\"data row2 col2\" >$2.35</td> \n",
       "    </tr>    <tr> \n",
       "        <th id=\"T_c844f22e_595a_11e8_b98c_9061aec5113clevel0_row3\" class=\"row_heading level0 row3\" >Stormcaller</th> \n",
       "        <td id=\"T_c844f22e_595a_11e8_b98c_9061aec5113crow3_col0\" class=\"data row3 col0\" >$34.65</td> \n",
       "        <td id=\"T_c844f22e_595a_11e8_b98c_9061aec5113crow3_col1\" class=\"data row3 col1\" >10</td> \n",
       "        <td id=\"T_c844f22e_595a_11e8_b98c_9061aec5113crow3_col2\" class=\"data row3 col2\" >$3.46</td> \n",
       "    </tr>    <tr> \n",
       "        <th id=\"T_c844f22e_595a_11e8_b98c_9061aec5113clevel0_row4\" class=\"row_heading level0 row4\" >Woeful Adamantite Claymore</th> \n",
       "        <td id=\"T_c844f22e_595a_11e8_b98c_9061aec5113crow4_col0\" class=\"data row4 col0\" >$11.16</td> \n",
       "        <td id=\"T_c844f22e_595a_11e8_b98c_9061aec5113crow4_col1\" class=\"data row4 col1\" >9</td> \n",
       "        <td id=\"T_c844f22e_595a_11e8_b98c_9061aec5113crow4_col2\" class=\"data row4 col2\" >$1.24</td> \n",
       "    </tr></tbody> \n",
       "</table> "
      ],
      "text/plain": [
       "<pandas.io.formats.style.Styler at 0x16aae0465f8>"
      ]
     },
     "execution_count": 7,
     "metadata": {},
     "output_type": "execute_result"
    }
   ],
   "source": [
    "# Top selling Items\n",
    "#calculate variable dfs\n",
    "total_amount_by_item = pd.DataFrame(heroes_df.groupby('Item Name')['Price'].sum())\n",
    "total_amount_by_item.rename(columns = {'Price': 'Total Revenue'}, inplace=True)\n",
    "\n",
    "\n",
    "purchases_by_item = pd.DataFrame(heroes_df.groupby('Item Name')['Price'].count())\n",
    "purchases_by_item.rename(columns = {'Price': 'Total Purchases'}, inplace=True)\n",
    "\n",
    "price_by_item = pd.DataFrame(heroes_df.groupby('Item Name')['Price'].mean())\n",
    "price_by_item.rename(columns = {'Price': 'Purchase Price'}, inplace=True)\n",
    "\n",
    "#append variable dfs with renamed columns\n",
    "top_items_df_1 = pd.merge(total_amount_by_item, purchases_by_item, left_index = True, right_index = True)\n",
    "top_items_df_final = pd.merge(top_items_df_1,price_by_item, left_index=True, right_index=True)\n",
    "\n",
    "#sort on total spend\n",
    "top_items_df_final.sort_values('Total Purchases', ascending = False, inplace=True)\n",
    "#top 5 values\n",
    "top_items_df_final = top_items_df_final.head(5)\n",
    "\n",
    "top_items_df_final.style.format({'Total Revenue': '${:.2f}', 'Purchase Price': '${:.2f}'})\n"
   ]
  },
  {
   "cell_type": "markdown",
   "metadata": {},
   "source": [
    "__ Most Profitable Items__"
   ]
  },
  {
   "cell_type": "code",
   "execution_count": 6,
   "metadata": {},
   "outputs": [
    {
     "data": {
      "text/html": [
       "<style  type=\"text/css\" >\n",
       "</style>  \n",
       "<table id=\"T_c25f699a_595a_11e8_8e84_9061aec5113c\" > \n",
       "<thead>    <tr> \n",
       "        <th class=\"blank level0\" ></th> \n",
       "        <th class=\"col_heading level0 col0\" >Total Revenue</th> \n",
       "        <th class=\"col_heading level0 col1\" >Total Purchases</th> \n",
       "        <th class=\"col_heading level0 col2\" >Purchase Price</th> \n",
       "    </tr>    <tr> \n",
       "        <th class=\"index_name level0\" >Item Name</th> \n",
       "        <th class=\"blank\" ></th> \n",
       "        <th class=\"blank\" ></th> \n",
       "        <th class=\"blank\" ></th> \n",
       "    </tr></thead> \n",
       "<tbody>    <tr> \n",
       "        <th id=\"T_c25f699a_595a_11e8_8e84_9061aec5113clevel0_row0\" class=\"row_heading level0 row0\" >Final Critic</th> \n",
       "        <td id=\"T_c25f699a_595a_11e8_8e84_9061aec5113crow0_col0\" class=\"data row0 col0\" >$38.60</td> \n",
       "        <td id=\"T_c25f699a_595a_11e8_8e84_9061aec5113crow0_col1\" class=\"data row0 col1\" >14</td> \n",
       "        <td id=\"T_c25f699a_595a_11e8_8e84_9061aec5113crow0_col2\" class=\"data row0 col2\" >$2.76</td> \n",
       "    </tr>    <tr> \n",
       "        <th id=\"T_c25f699a_595a_11e8_8e84_9061aec5113clevel0_row1\" class=\"row_heading level0 row1\" >Retribution Axe</th> \n",
       "        <td id=\"T_c25f699a_595a_11e8_8e84_9061aec5113crow1_col0\" class=\"data row1 col0\" >$37.26</td> \n",
       "        <td id=\"T_c25f699a_595a_11e8_8e84_9061aec5113crow1_col1\" class=\"data row1 col1\" >9</td> \n",
       "        <td id=\"T_c25f699a_595a_11e8_8e84_9061aec5113crow1_col2\" class=\"data row1 col2\" >$4.14</td> \n",
       "    </tr>    <tr> \n",
       "        <th id=\"T_c25f699a_595a_11e8_8e84_9061aec5113clevel0_row2\" class=\"row_heading level0 row2\" >Stormcaller</th> \n",
       "        <td id=\"T_c25f699a_595a_11e8_8e84_9061aec5113crow2_col0\" class=\"data row2 col0\" >$34.65</td> \n",
       "        <td id=\"T_c25f699a_595a_11e8_8e84_9061aec5113crow2_col1\" class=\"data row2 col1\" >10</td> \n",
       "        <td id=\"T_c25f699a_595a_11e8_8e84_9061aec5113crow2_col2\" class=\"data row2 col2\" >$3.46</td> \n",
       "    </tr>    <tr> \n",
       "        <th id=\"T_c25f699a_595a_11e8_8e84_9061aec5113clevel0_row3\" class=\"row_heading level0 row3\" >Spectral Diamond Doomblade</th> \n",
       "        <td id=\"T_c25f699a_595a_11e8_8e84_9061aec5113crow3_col0\" class=\"data row3 col0\" >$29.75</td> \n",
       "        <td id=\"T_c25f699a_595a_11e8_8e84_9061aec5113crow3_col1\" class=\"data row3 col1\" >7</td> \n",
       "        <td id=\"T_c25f699a_595a_11e8_8e84_9061aec5113crow3_col2\" class=\"data row3 col2\" >$4.25</td> \n",
       "    </tr>    <tr> \n",
       "        <th id=\"T_c25f699a_595a_11e8_8e84_9061aec5113clevel0_row4\" class=\"row_heading level0 row4\" >Orenmir</th> \n",
       "        <td id=\"T_c25f699a_595a_11e8_8e84_9061aec5113crow4_col0\" class=\"data row4 col0\" >$29.70</td> \n",
       "        <td id=\"T_c25f699a_595a_11e8_8e84_9061aec5113crow4_col1\" class=\"data row4 col1\" >6</td> \n",
       "        <td id=\"T_c25f699a_595a_11e8_8e84_9061aec5113crow4_col2\" class=\"data row4 col2\" >$4.95</td> \n",
       "    </tr></tbody> \n",
       "</table> "
      ],
      "text/plain": [
       "<pandas.io.formats.style.Styler at 0x16aae046710>"
      ]
     },
     "execution_count": 6,
     "metadata": {},
     "output_type": "execute_result"
    }
   ],
   "source": [
    "#most profitable items\n",
    "#calculate variable dfs\n",
    "total_amount_by_item = pd.DataFrame(heroes_df.groupby('Item Name')['Price'].sum())\n",
    "total_amount_by_item.rename(columns = {'Price': 'Total Revenue'}, inplace=True)\n",
    "\n",
    "\n",
    "purchases_by_item = pd.DataFrame(heroes_df.groupby('Item Name')['Price'].count())\n",
    "purchases_by_item.rename(columns = {'Price': 'Total Purchases'}, inplace=True)\n",
    "\n",
    "price_by_item = pd.DataFrame(heroes_df.groupby('Item Name')['Price'].mean())\n",
    "price_by_item.rename(columns = {'Price': 'Purchase Price'}, inplace=True)\n",
    "\n",
    "#append variable dfs with renamed columns\n",
    "top_items_df_1 = pd.merge(total_amount_by_item, purchases_by_item, left_index = True, right_index = True)\n",
    "top_items_df_final = pd.merge(top_items_df_1,price_by_item, left_index=True, right_index=True)\n",
    "\n",
    "#sort on total spend\n",
    "top_items_df_final.sort_values('Total Revenue', ascending = False, inplace=True)\n",
    "#top 5 values\n",
    "top_items_df_final = top_items_df_final.head(5)\n",
    "\n",
    "top_items_df_final.style.format({'Total Revenue': '${:.2f}', 'Purchase Price': '${:.2f}'})"
   ]
  },
  {
   "cell_type": "code",
   "execution_count": 7,
   "metadata": {},
   "outputs": [
    {
     "data": {
      "text/html": [
       "<div>\n",
       "<style scoped>\n",
       "    .dataframe tbody tr th:only-of-type {\n",
       "        vertical-align: middle;\n",
       "    }\n",
       "\n",
       "    .dataframe tbody tr th {\n",
       "        vertical-align: top;\n",
       "    }\n",
       "\n",
       "    .dataframe thead th {\n",
       "        text-align: right;\n",
       "    }\n",
       "</style>\n",
       "<table border=\"1\" class=\"dataframe\">\n",
       "  <thead>\n",
       "    <tr style=\"text-align: right;\">\n",
       "      <th></th>\n",
       "      <th># of Purchases</th>\n",
       "    </tr>\n",
       "    <tr>\n",
       "      <th>Gender</th>\n",
       "      <th></th>\n",
       "    </tr>\n",
       "  </thead>\n",
       "  <tbody>\n",
       "    <tr>\n",
       "      <th>Female</th>\n",
       "      <td>136</td>\n",
       "    </tr>\n",
       "    <tr>\n",
       "      <th>Male</th>\n",
       "      <td>633</td>\n",
       "    </tr>\n",
       "    <tr>\n",
       "      <th>Other / Non-Disclosed</th>\n",
       "      <td>11</td>\n",
       "    </tr>\n",
       "  </tbody>\n",
       "</table>\n",
       "</div>"
      ],
      "text/plain": [
       "                       # of Purchases\n",
       "Gender                               \n",
       "Female                            136\n",
       "Male                              633\n",
       "Other / Non-Disclosed              11"
      ]
     },
     "execution_count": 7,
     "metadata": {},
     "output_type": "execute_result"
    }
   ],
   "source": [
    "count_by_gen = pd.DataFrame(heroes_df.groupby('Gender')['Gender'].count())\n",
    "count_by_gen.rename(columns = {'Gender': '# of Purchases'}, inplace=True)\n",
    "count_by_gen"
   ]
  },
  {
   "cell_type": "code",
   "execution_count": null,
   "metadata": {},
   "outputs": [],
   "source": []
  },
  {
   "cell_type": "code",
   "execution_count": null,
   "metadata": {},
   "outputs": [],
   "source": []
  }
 ],
 "metadata": {
  "kernelspec": {
   "display_name": "Python 3",
   "language": "python",
   "name": "python3"
  },
  "language_info": {
   "codemirror_mode": {
    "name": "ipython",
    "version": 3
   },
   "file_extension": ".py",
   "mimetype": "text/x-python",
   "name": "python",
   "nbconvert_exporter": "python",
   "pygments_lexer": "ipython3",
   "version": "3.6.4"
  }
 },
 "nbformat": 4,
 "nbformat_minor": 2
}
